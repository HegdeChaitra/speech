{
  "nbformat": 4,
  "nbformat_minor": 0,
  "metadata": {
    "colab": {
      "name": "Welcome To Colaboratory",
      "provenance": [],
      "collapsed_sections": [],
      "include_colab_link": true
    },
    "kernelspec": {
      "name": "python3",
      "display_name": "Python 3"
    },
    "accelerator": "GPU"
  },
  "cells": [
    {
      "cell_type": "markdown",
      "metadata": {
        "id": "view-in-github",
        "colab_type": "text"
      },
      "source": [
        "<a href=\"https://colab.research.google.com/github/HegdeChaitra/speech/blob/master/weather2.ipynb\" target=\"_parent\"><img src=\"https://colab.research.google.com/assets/colab-badge.svg\" alt=\"Open In Colab\"/></a>"
      ]
    },
    {
      "cell_type": "code",
      "metadata": {
        "id": "U48mC2V36ie8",
        "colab_type": "code",
        "colab": {}
      },
      "source": [
        "import pandas as pd\n",
        "import numpy as np\n",
        "\n",
        "\n",
        "import pandas as pd\n",
        "import matplotlib.pyplot as plt\n",
        "import sklearn\n",
        "\n",
        "import numpy as np\n",
        "import pandas as pd\n",
        "import math\n",
        "import sklearn\n",
        "import sklearn.preprocessing\n",
        "import datetime\n",
        "import os\n",
        "import matplotlib.pyplot as plt\n",
        "\n",
        "import torch\n",
        "import torch.nn as nn\n",
        "import torchvision\n",
        "from torchvision import datasets, models\n",
        "from torchvision import transforms as T\n",
        "from torch.utils.data import DataLoader, Dataset\n",
        "import torch.optim as optim\n",
        "from sklearn.utils.class_weight import compute_class_weight"
      ],
      "execution_count": 0,
      "outputs": []
    },
    {
      "cell_type": "code",
      "metadata": {
        "id": "534wdVJq6ijs",
        "colab_type": "code",
        "colab": {}
      },
      "source": [
        "df = pd.read_csv(\"jfk_weather_cleaned.csv\")"
      ],
      "execution_count": 0,
      "outputs": []
    },
    {
      "cell_type": "code",
      "metadata": {
        "id": "JHQbiGQc6ipn",
        "colab_type": "code",
        "outputId": "77b24efd-0f65-49ed-d998-a50b3f6b797c",
        "colab": {
          "base_uri": "https://localhost:8080/",
          "height": 386
        }
      },
      "source": [
        "df.head()"
      ],
      "execution_count": 3,
      "outputs": [
        {
          "output_type": "execute_result",
          "data": {
            "text/html": [
              "<div>\n",
              "<style scoped>\n",
              "    .dataframe tbody tr th:only-of-type {\n",
              "        vertical-align: middle;\n",
              "    }\n",
              "\n",
              "    .dataframe tbody tr th {\n",
              "        vertical-align: top;\n",
              "    }\n",
              "\n",
              "    .dataframe thead th {\n",
              "        text-align: right;\n",
              "    }\n",
              "</style>\n",
              "<table border=\"1\" class=\"dataframe\">\n",
              "  <thead>\n",
              "    <tr style=\"text-align: right;\">\n",
              "      <th></th>\n",
              "      <th>DATE</th>\n",
              "      <th>VISIBILITY</th>\n",
              "      <th>DRYBULBTEMPF</th>\n",
              "      <th>WETBULBTEMPF</th>\n",
              "      <th>DewPointTempF</th>\n",
              "      <th>RelativeHumidity</th>\n",
              "      <th>WindSpeed</th>\n",
              "      <th>WindDirection</th>\n",
              "      <th>StationPressure</th>\n",
              "      <th>SeaLevelPressure</th>\n",
              "      <th>Precip</th>\n",
              "    </tr>\n",
              "  </thead>\n",
              "  <tbody>\n",
              "    <tr>\n",
              "      <th>0</th>\n",
              "      <td>2010-01-01 00:51:00</td>\n",
              "      <td>6.0</td>\n",
              "      <td>33</td>\n",
              "      <td>32</td>\n",
              "      <td>31</td>\n",
              "      <td>92</td>\n",
              "      <td>0</td>\n",
              "      <td>0</td>\n",
              "      <td>29.97</td>\n",
              "      <td>29.99</td>\n",
              "      <td>0.01</td>\n",
              "    </tr>\n",
              "    <tr>\n",
              "      <th>1</th>\n",
              "      <td>2010-01-01 01:51:00</td>\n",
              "      <td>6.0</td>\n",
              "      <td>33</td>\n",
              "      <td>33</td>\n",
              "      <td>32</td>\n",
              "      <td>96</td>\n",
              "      <td>0</td>\n",
              "      <td>0</td>\n",
              "      <td>29.97</td>\n",
              "      <td>29.99</td>\n",
              "      <td>0.02</td>\n",
              "    </tr>\n",
              "    <tr>\n",
              "      <th>2</th>\n",
              "      <td>2010-01-01 02:51:00</td>\n",
              "      <td>5.0</td>\n",
              "      <td>33</td>\n",
              "      <td>33</td>\n",
              "      <td>32</td>\n",
              "      <td>96</td>\n",
              "      <td>0</td>\n",
              "      <td>0</td>\n",
              "      <td>29.97</td>\n",
              "      <td>29.99</td>\n",
              "      <td>0.02</td>\n",
              "    </tr>\n",
              "    <tr>\n",
              "      <th>3</th>\n",
              "      <td>2010-01-01 03:51:00</td>\n",
              "      <td>5.0</td>\n",
              "      <td>33</td>\n",
              "      <td>33</td>\n",
              "      <td>32</td>\n",
              "      <td>96</td>\n",
              "      <td>0</td>\n",
              "      <td>0</td>\n",
              "      <td>29.95</td>\n",
              "      <td>29.97</td>\n",
              "      <td>0.02</td>\n",
              "    </tr>\n",
              "    <tr>\n",
              "      <th>4</th>\n",
              "      <td>2010-01-01 04:51:00</td>\n",
              "      <td>5.0</td>\n",
              "      <td>33</td>\n",
              "      <td>32</td>\n",
              "      <td>31</td>\n",
              "      <td>92</td>\n",
              "      <td>0</td>\n",
              "      <td>0</td>\n",
              "      <td>29.93</td>\n",
              "      <td>29.96</td>\n",
              "      <td>0.02</td>\n",
              "    </tr>\n",
              "  </tbody>\n",
              "</table>\n",
              "</div>"
            ],
            "text/plain": [
              "                  DATE  VISIBILITY  ...  SeaLevelPressure  Precip\n",
              "0  2010-01-01 00:51:00         6.0  ...             29.99    0.01\n",
              "1  2010-01-01 01:51:00         6.0  ...             29.99    0.02\n",
              "2  2010-01-01 02:51:00         5.0  ...             29.99    0.02\n",
              "3  2010-01-01 03:51:00         5.0  ...             29.97    0.02\n",
              "4  2010-01-01 04:51:00         5.0  ...             29.96    0.02\n",
              "\n",
              "[5 rows x 11 columns]"
            ]
          },
          "metadata": {
            "tags": []
          },
          "execution_count": 3
        }
      ]
    },
    {
      "cell_type": "code",
      "metadata": {
        "id": "bIf7l9Ut6jY7",
        "colab_type": "code",
        "outputId": "312a1110-276d-4c84-e3eb-56b18686de1f",
        "colab": {
          "base_uri": "https://localhost:8080/",
          "height": 104
        }
      },
      "source": [
        "df.columns"
      ],
      "execution_count": 4,
      "outputs": [
        {
          "output_type": "execute_result",
          "data": {
            "text/plain": [
              "Index(['DATE', 'VISIBILITY', 'DRYBULBTEMPF', 'WETBULBTEMPF', 'DewPointTempF',\n",
              "       'RelativeHumidity', 'WindSpeed', 'WindDirection', 'StationPressure',\n",
              "       'SeaLevelPressure', 'Precip'],\n",
              "      dtype='object')"
            ]
          },
          "metadata": {
            "tags": []
          },
          "execution_count": 4
        }
      ]
    },
    {
      "cell_type": "code",
      "metadata": {
        "id": "JQKIec-y6jgD",
        "colab_type": "code",
        "colab": {}
      },
      "source": [
        "df['DATE']=pd.to_datetime(df['DATE'])"
      ],
      "execution_count": 0,
      "outputs": []
    },
    {
      "cell_type": "code",
      "metadata": {
        "id": "OtkDziVUAciX",
        "colab_type": "code",
        "colab": {}
      },
      "source": [
        "df['month'] = df['DATE'].dt.month"
      ],
      "execution_count": 0,
      "outputs": []
    },
    {
      "cell_type": "code",
      "metadata": {
        "id": "o9INE_fd6kBj",
        "colab_type": "code",
        "outputId": "716c5205-5e68-46bd-e766-3e7f2193c408",
        "colab": {
          "base_uri": "https://localhost:8080/",
          "height": 386
        }
      },
      "source": [
        "df.head()"
      ],
      "execution_count": 7,
      "outputs": [
        {
          "output_type": "execute_result",
          "data": {
            "text/html": [
              "<div>\n",
              "<style scoped>\n",
              "    .dataframe tbody tr th:only-of-type {\n",
              "        vertical-align: middle;\n",
              "    }\n",
              "\n",
              "    .dataframe tbody tr th {\n",
              "        vertical-align: top;\n",
              "    }\n",
              "\n",
              "    .dataframe thead th {\n",
              "        text-align: right;\n",
              "    }\n",
              "</style>\n",
              "<table border=\"1\" class=\"dataframe\">\n",
              "  <thead>\n",
              "    <tr style=\"text-align: right;\">\n",
              "      <th></th>\n",
              "      <th>DATE</th>\n",
              "      <th>VISIBILITY</th>\n",
              "      <th>DRYBULBTEMPF</th>\n",
              "      <th>WETBULBTEMPF</th>\n",
              "      <th>DewPointTempF</th>\n",
              "      <th>RelativeHumidity</th>\n",
              "      <th>WindSpeed</th>\n",
              "      <th>WindDirection</th>\n",
              "      <th>StationPressure</th>\n",
              "      <th>SeaLevelPressure</th>\n",
              "      <th>Precip</th>\n",
              "      <th>month</th>\n",
              "    </tr>\n",
              "  </thead>\n",
              "  <tbody>\n",
              "    <tr>\n",
              "      <th>0</th>\n",
              "      <td>2010-01-01 00:51:00</td>\n",
              "      <td>6.0</td>\n",
              "      <td>33</td>\n",
              "      <td>32</td>\n",
              "      <td>31</td>\n",
              "      <td>92</td>\n",
              "      <td>0</td>\n",
              "      <td>0</td>\n",
              "      <td>29.97</td>\n",
              "      <td>29.99</td>\n",
              "      <td>0.01</td>\n",
              "      <td>1</td>\n",
              "    </tr>\n",
              "    <tr>\n",
              "      <th>1</th>\n",
              "      <td>2010-01-01 01:51:00</td>\n",
              "      <td>6.0</td>\n",
              "      <td>33</td>\n",
              "      <td>33</td>\n",
              "      <td>32</td>\n",
              "      <td>96</td>\n",
              "      <td>0</td>\n",
              "      <td>0</td>\n",
              "      <td>29.97</td>\n",
              "      <td>29.99</td>\n",
              "      <td>0.02</td>\n",
              "      <td>1</td>\n",
              "    </tr>\n",
              "    <tr>\n",
              "      <th>2</th>\n",
              "      <td>2010-01-01 02:51:00</td>\n",
              "      <td>5.0</td>\n",
              "      <td>33</td>\n",
              "      <td>33</td>\n",
              "      <td>32</td>\n",
              "      <td>96</td>\n",
              "      <td>0</td>\n",
              "      <td>0</td>\n",
              "      <td>29.97</td>\n",
              "      <td>29.99</td>\n",
              "      <td>0.02</td>\n",
              "      <td>1</td>\n",
              "    </tr>\n",
              "    <tr>\n",
              "      <th>3</th>\n",
              "      <td>2010-01-01 03:51:00</td>\n",
              "      <td>5.0</td>\n",
              "      <td>33</td>\n",
              "      <td>33</td>\n",
              "      <td>32</td>\n",
              "      <td>96</td>\n",
              "      <td>0</td>\n",
              "      <td>0</td>\n",
              "      <td>29.95</td>\n",
              "      <td>29.97</td>\n",
              "      <td>0.02</td>\n",
              "      <td>1</td>\n",
              "    </tr>\n",
              "    <tr>\n",
              "      <th>4</th>\n",
              "      <td>2010-01-01 04:51:00</td>\n",
              "      <td>5.0</td>\n",
              "      <td>33</td>\n",
              "      <td>32</td>\n",
              "      <td>31</td>\n",
              "      <td>92</td>\n",
              "      <td>0</td>\n",
              "      <td>0</td>\n",
              "      <td>29.93</td>\n",
              "      <td>29.96</td>\n",
              "      <td>0.02</td>\n",
              "      <td>1</td>\n",
              "    </tr>\n",
              "  </tbody>\n",
              "</table>\n",
              "</div>"
            ],
            "text/plain": [
              "                 DATE  VISIBILITY  ...  Precip  month\n",
              "0 2010-01-01 00:51:00         6.0  ...    0.01      1\n",
              "1 2010-01-01 01:51:00         6.0  ...    0.02      1\n",
              "2 2010-01-01 02:51:00         5.0  ...    0.02      1\n",
              "3 2010-01-01 03:51:00         5.0  ...    0.02      1\n",
              "4 2010-01-01 04:51:00         5.0  ...    0.02      1\n",
              "\n",
              "[5 rows x 12 columns]"
            ]
          },
          "metadata": {
            "tags": []
          },
          "execution_count": 7
        }
      ]
    },
    {
      "cell_type": "code",
      "metadata": {
        "id": "Dt5RndPN8OSF",
        "colab_type": "code",
        "colab": {}
      },
      "source": [
        "df = df[['DATE', 'DRYBULBTEMPF', 'WETBULBTEMPF', 'DewPointTempF','VISIBILITY', \n",
        "       'RelativeHumidity', 'WindSpeed', 'WindDirection', 'StationPressure',\n",
        "       'SeaLevelPressure', 'Precip','month']]"
      ],
      "execution_count": 0,
      "outputs": []
    },
    {
      "cell_type": "code",
      "metadata": {
        "id": "pjclpsfw8f2M",
        "colab_type": "code",
        "outputId": "ce8b15fe-a595-46d0-e6b9-0fb9effcdbec",
        "colab": {
          "base_uri": "https://localhost:8080/",
          "height": 54
        }
      },
      "source": [
        "df.shape"
      ],
      "execution_count": 9,
      "outputs": [
        {
          "output_type": "execute_result",
          "data": {
            "text/plain": [
              "(75083, 12)"
            ]
          },
          "metadata": {
            "tags": []
          },
          "execution_count": 9
        }
      ]
    },
    {
      "cell_type": "code",
      "metadata": {
        "id": "T0WcbAZm6j99",
        "colab_type": "code",
        "colab": {}
      },
      "source": [
        "def load_data(stock, y, seq_len):\n",
        "    data_raw = np.array(stock) # convert to numpy array\n",
        "    data = []\n",
        "    \n",
        "    # create all possible sequences of length seq_len\n",
        "    for index in range(len(data_raw) - seq_len): \n",
        "        data.append(data_raw[index: index + seq_len])\n",
        "    \n",
        "    data = np.array(data);\n",
        "    target_out = y[seq_len:]\n",
        "    \n",
        "    print(data.shape, len(target_out))\n",
        "    valid_set_size = int(np.round(valid_set_size_percentage/100*data.shape[0]));  \n",
        "    test_set_size = int(np.round(test_set_size_percentage/100*data.shape[0]));\n",
        "    train_set_size = data.shape[0] - (valid_set_size + test_set_size);\n",
        "    \n",
        "    x_train = data[:train_set_size,:,:]\n",
        "    y_train = target_out[:train_set_size]\n",
        "    \n",
        "    x_valid = data[train_set_size:train_set_size+valid_set_size,:,:]\n",
        "    y_valid = target_out[train_set_size:train_set_size+valid_set_size]\n",
        "    \n",
        "    x_test = data[train_set_size+valid_set_size:,:,:]\n",
        "    y_test = target_out[train_set_size+valid_set_size:]\n",
        "    \n",
        "    return [x_train, y_train, x_valid, y_valid, x_test, y_test]"
      ],
      "execution_count": 0,
      "outputs": []
    },
    {
      "cell_type": "code",
      "metadata": {
        "id": "_9oS8Fnt9iXU",
        "colab_type": "code",
        "colab": {}
      },
      "source": [
        "valid_set_size_percentage = 20\n",
        "test_set_size_percentage = 20"
      ],
      "execution_count": 0,
      "outputs": []
    },
    {
      "cell_type": "code",
      "metadata": {
        "id": "K4MpbCx26j6f",
        "colab_type": "code",
        "outputId": "f82532e3-014a-42cc-900b-c35bd31d5a71",
        "colab": {
          "base_uri": "https://localhost:8080/",
          "height": 54
        }
      },
      "source": [
        "out = load_data(df[['DATE', 'VISIBILITY', 'RelativeHumidity', 'WindSpeed', 'WindDirection', 'StationPressure',\n",
        "       'SeaLevelPressure', 'Precip','month']], list(df['DRYBULBTEMPF']),20)"
      ],
      "execution_count": 12,
      "outputs": [
        {
          "output_type": "stream",
          "text": [
            "(75063, 20, 9) 75063\n"
          ],
          "name": "stdout"
        }
      ]
    },
    {
      "cell_type": "code",
      "metadata": {
        "id": "S4AGGijZ6jzr",
        "colab_type": "code",
        "colab": {}
      },
      "source": [
        "class BrainImages(Dataset):\n",
        "    def __init__(self, x, y):\n",
        "        \n",
        "        self.x = x\n",
        "        self.y = y\n",
        "\n",
        "    def __len__(self):\n",
        "        return len(self.x)\n",
        "\n",
        "    def __getitem__(self,idx):\n",
        "        a = [[float(x) for x in a] for a in self.x[idx][:,1:]]\n",
        "        # print(np.array(self.x[idx][:,1:]))\n",
        "        # print(a)\n",
        "        xi = np.array(a)\n",
        "        yi = np.array([self.y[idx]])\n",
        "        # print(self.y[idx], xi.shape, yi.shape)\n",
        "                \n",
        "        return xi, yi"
      ],
      "execution_count": 0,
      "outputs": []
    },
    {
      "cell_type": "code",
      "metadata": {
        "id": "lk01g_Qf6jv9",
        "colab_type": "code",
        "colab": {}
      },
      "source": [
        "bs = 128\n",
        "device = 'cuda'"
      ],
      "execution_count": 0,
      "outputs": []
    },
    {
      "cell_type": "code",
      "metadata": {
        "id": "v1be8iM06jt_",
        "colab_type": "code",
        "colab": {}
      },
      "source": [
        "train_dataset = BrainImages(out[0], out[1])\n",
        "train_loader = DataLoader(train_dataset, batch_size=bs,\n",
        "                        shuffle=False, num_workers=0)\n",
        "\n",
        "\n",
        "val_dataset = BrainImages(out[2], out[3])\n",
        "val_loader = DataLoader(val_dataset, batch_size=bs,\n",
        "                        shuffle=False, num_workers=0)"
      ],
      "execution_count": 0,
      "outputs": []
    },
    {
      "cell_type": "code",
      "metadata": {
        "id": "kdyketML6jmn",
        "colab_type": "code",
        "colab": {}
      },
      "source": [
        "d = next(iter(train_loader))"
      ],
      "execution_count": 0,
      "outputs": []
    },
    {
      "cell_type": "code",
      "metadata": {
        "id": "C-M-54mE6jlb",
        "colab_type": "code",
        "colab": {}
      },
      "source": [
        "class Net(nn.Module):\n",
        "    def __init__(self):\n",
        "        super(Net, self).__init__()\n",
        "        self.lstm = nn.GRU(input_size=8, hidden_size=50,batch_first=True, num_layers=1)\n",
        "        self.lin1 = nn.Linear(50,25)\n",
        "        self.lin2 = nn.Linear(25, 1)\n",
        "        self.sm = nn.Softmax()\n",
        "        \n",
        "    def forward(self, x):\n",
        "        x = x.float()\n",
        "        # print(x.shape)\n",
        "        bss = x.size(0)\n",
        "        output, hn = self.lstm(x)\n",
        "        intr = hn[-1]\n",
        "        oo = self.lin1(intr)\n",
        "        oo = self.lin2(oo)\n",
        "        return oo"
      ],
      "execution_count": 0,
      "outputs": []
    },
    {
      "cell_type": "code",
      "metadata": {
        "id": "uQ9UbsfZ6jVp",
        "colab_type": "code",
        "colab": {}
      },
      "source": [
        "def train(model, iterator, optimizer, criterion):\n",
        "    model.train()\n",
        "    epoch_loss = 0\n",
        "    for data in iterator:\n",
        "        optimizer.zero_grad()\n",
        "        x = data[0].to(device)\n",
        "        y = data[1].to(device).float()\n",
        "\n",
        "        m_out = model(x)\n",
        "        loss = criterion(m_out,y)\n",
        "\n",
        "        epoch_loss += loss.mean().item()\n",
        "\n",
        "        loss.backward()\n",
        "        optimizer.step()\n",
        "    print(\"Train Loss = \", epoch_loss)\n",
        "    return model\n",
        "\n",
        "def eval(model, iterator, criterion):\n",
        "    model.eval()\n",
        "\n",
        "    epoch_loss = 0\n",
        "    total = 0\n",
        "    correct = 0\n",
        "    for data in iterator:\n",
        "        x = data[0].to(device)\n",
        "        y = data[1].to(device).float()\n",
        "\n",
        "        with torch.no_grad():\n",
        "            logits = model(x)\n",
        "\n",
        "        loss = criterion(logits, y)\n",
        "        epoch_loss+=loss.mean().item()\n",
        "\n",
        "        total += x.size(0)\n",
        "\n",
        "    # accuracy = correct/total\n",
        "    print(\"Eval Loss = \", epoch_loss)\n",
        "    # print(\"Eval Accuracy = \", accuracy)\n",
        "    return epoch_loss"
      ],
      "execution_count": 0,
      "outputs": []
    },
    {
      "cell_type": "code",
      "metadata": {
        "id": "L5SRUiUx6jQ0",
        "colab_type": "code",
        "colab": {}
      },
      "source": [
        "model = Net().to(device)\n",
        "lr = 5e-5"
      ],
      "execution_count": 0,
      "outputs": []
    },
    {
      "cell_type": "code",
      "metadata": {
        "id": "0V-EN02r6jNr",
        "colab_type": "code",
        "colab": {}
      },
      "source": [
        "criterion = nn.MSELoss()\n",
        "# optimizer = optim.SGD(model.parameters(), lr=0.001, momentum=0.9)\n",
        "optimizer = optim.Adam(model.parameters(), lr=lr)"
      ],
      "execution_count": 0,
      "outputs": []
    },
    {
      "cell_type": "code",
      "metadata": {
        "id": "1O7bBwJtQK7r",
        "colab_type": "code",
        "colab": {}
      },
      "source": [
        "best_acc = np.inf\n",
        "n_epochs = 500"
      ],
      "execution_count": 0,
      "outputs": []
    },
    {
      "cell_type": "code",
      "metadata": {
        "id": "azmLnCJT6jMo",
        "colab_type": "code",
        "outputId": "b9cca733-cba0-4e50-ada7-006661c5ee8c",
        "colab": {
          "base_uri": "https://localhost:8080/",
          "height": 1000
        }
      },
      "source": [
        "\n",
        "for epoch in range(n_epochs):\n",
        "    print(\"-\"*10)\n",
        "    print(\"Epoch = \", epoch+1)\n",
        "    model = train(model, train_loader, optimizer, criterion)\n",
        "    accuracy = eval(model, val_loader, criterion)\n",
        "\n",
        "    # print(epoch, accuracy)\n",
        "    if accuracy<best_acc:\n",
        "        best_acc = accuracy\n",
        "        torch.save(model, \"model1.m\")\n",
        "        best_param = model.state_dict()"
      ],
      "execution_count": 28,
      "outputs": [
        {
          "output_type": "stream",
          "text": [
            "Eval Loss =  4271.301608085632\n",
            "----------\n",
            "Epoch =  470\n",
            "Train Loss =  10464.504118204117\n",
            "Eval Loss =  4270.848628997803\n",
            "----------\n",
            "Epoch =  471\n",
            "Train Loss =  10460.403641700745\n",
            "Eval Loss =  4270.405766010284\n",
            "----------\n",
            "Epoch =  472\n",
            "Train Loss =  10456.300797462463\n",
            "Eval Loss =  4269.972389221191\n",
            "----------\n",
            "Epoch =  473\n",
            "Train Loss =  10452.20473241806\n",
            "Eval Loss =  4269.551607131958\n",
            "----------\n",
            "Epoch =  474\n",
            "Train Loss =  10448.10730624199\n",
            "Eval Loss =  4269.139344215393\n",
            "----------\n",
            "Epoch =  475\n",
            "Train Loss =  10444.012164354324\n",
            "Eval Loss =  4268.739976406097\n",
            "----------\n",
            "Epoch =  476\n",
            "Train Loss =  10439.916291475296\n",
            "Eval Loss =  4268.3482394218445\n",
            "----------\n",
            "Epoch =  477\n",
            "Train Loss =  10435.829503774643\n",
            "Eval Loss =  4267.967306137085\n",
            "----------\n",
            "Epoch =  478\n",
            "Train Loss =  10431.750391960144\n",
            "Eval Loss =  4267.595892906189\n",
            "----------\n",
            "Epoch =  479\n",
            "Train Loss =  10427.662987709045\n",
            "Eval Loss =  4267.2304220199585\n",
            "----------\n",
            "Epoch =  480\n",
            "Train Loss =  10423.591170310974\n",
            "Eval Loss =  4266.875896453857\n",
            "----------\n",
            "Epoch =  481\n",
            "Train Loss =  10419.522399187088\n",
            "Eval Loss =  4266.529800415039\n",
            "----------\n",
            "Epoch =  482\n",
            "Train Loss =  10415.452160596848\n",
            "Eval Loss =  4266.190399169922\n",
            "----------\n",
            "Epoch =  483\n",
            "Train Loss =  10411.39362192154\n",
            "Eval Loss =  4265.858296394348\n",
            "----------\n",
            "Epoch =  484\n",
            "Train Loss =  10407.34128189087\n",
            "Eval Loss =  4265.532764911652\n",
            "----------\n",
            "Epoch =  485\n",
            "Train Loss =  10403.29688167572\n",
            "Eval Loss =  4265.214884757996\n",
            "----------\n",
            "Epoch =  486\n",
            "Train Loss =  10399.265594959259\n",
            "Eval Loss =  4264.906775474548\n",
            "----------\n",
            "Epoch =  487\n",
            "Train Loss =  10395.229120254517\n",
            "Eval Loss =  4264.603507518768\n",
            "----------\n",
            "Epoch =  488\n",
            "Train Loss =  10391.208827972412\n",
            "Eval Loss =  4264.306840419769\n",
            "----------\n",
            "Epoch =  489\n",
            "Train Loss =  10387.190225839615\n",
            "Eval Loss =  4264.014484405518\n",
            "----------\n",
            "Epoch =  490\n",
            "Train Loss =  10383.17856001854\n",
            "Eval Loss =  4263.7291622161865\n",
            "----------\n",
            "Epoch =  491\n",
            "Train Loss =  10379.179171085358\n",
            "Eval Loss =  4263.452775478363\n",
            "----------\n",
            "Epoch =  492\n",
            "Train Loss =  10375.174042463303\n",
            "Eval Loss =  4263.181994438171\n",
            "----------\n",
            "Epoch =  493\n",
            "Train Loss =  10371.176189422607\n",
            "Eval Loss =  4262.9189195632935\n",
            "----------\n",
            "Epoch =  494\n",
            "Train Loss =  10367.194647312164\n",
            "Eval Loss =  4262.660122871399\n",
            "----------\n",
            "Epoch =  495\n",
            "Train Loss =  10363.207935333252\n",
            "Eval Loss =  4262.407822608948\n",
            "----------\n",
            "Epoch =  496\n",
            "Train Loss =  10359.226649522781\n",
            "Eval Loss =  4262.162794589996\n",
            "----------\n",
            "Epoch =  497\n",
            "Train Loss =  10355.259371757507\n",
            "Eval Loss =  4261.925315856934\n",
            "----------\n",
            "Epoch =  498\n",
            "Train Loss =  10351.286756277084\n",
            "Eval Loss =  4261.693584918976\n",
            "----------\n",
            "Epoch =  499\n",
            "Train Loss =  10347.320202589035\n",
            "Eval Loss =  4261.469365119934\n",
            "----------\n",
            "Epoch =  500\n",
            "Train Loss =  10343.353752374649\n",
            "Eval Loss =  4261.24923324585\n"
          ],
          "name": "stdout"
        }
      ]
    },
    {
      "cell_type": "code",
      "metadata": {
        "id": "6iMod6Gl6jJa",
        "colab_type": "code",
        "colab": {}
      },
      "source": [
        "model.eval()\n",
        "\n",
        "gt = []\n",
        "tgt = []\n",
        "for data in val_loader:\n",
        "    x = data[0].to(device)\n",
        "    y = data[1].to(device).float()\n",
        "\n",
        "    with torch.no_grad():\n",
        "        logits = model(x)\n",
        "    gt.append(y.detach().cpu().numpy())\n",
        "    tgt.append(logits.detach().cpu().numpy())"
      ],
      "execution_count": 0,
      "outputs": []
    },
    {
      "cell_type": "code",
      "metadata": {
        "id": "27P_kQQ_6jEf",
        "colab_type": "code",
        "colab": {}
      },
      "source": [
        "gt1 = np.vstack(gt)"
      ],
      "execution_count": 0,
      "outputs": []
    },
    {
      "cell_type": "code",
      "metadata": {
        "id": "OaVvXkeX6jBY",
        "colab_type": "code",
        "colab": {}
      },
      "source": [
        "tgt1 = np.vstack(tgt)"
      ],
      "execution_count": 0,
      "outputs": []
    },
    {
      "cell_type": "code",
      "metadata": {
        "id": "polDTVio6i-T",
        "colab_type": "code",
        "outputId": "6c04191a-a547-4d0c-bd7d-aa63cb001fcb",
        "colab": {
          "base_uri": "https://localhost:8080/",
          "height": 54
        }
      },
      "source": [
        "gt1.shape, tgt1.shape"
      ],
      "execution_count": 32,
      "outputs": [
        {
          "output_type": "execute_result",
          "data": {
            "text/plain": [
              "((15013, 1), (15013, 1))"
            ]
          },
          "metadata": {
            "tags": []
          },
          "execution_count": 32
        }
      ]
    },
    {
      "cell_type": "code",
      "metadata": {
        "id": "njvy0gsQ6i6o",
        "colab_type": "code",
        "colab": {}
      },
      "source": [
        "from sklearn.metrics import *"
      ],
      "execution_count": 0,
      "outputs": []
    },
    {
      "cell_type": "code",
      "metadata": {
        "id": "EswUbQoR6i3v",
        "colab_type": "code",
        "outputId": "ed0962e8-f9ec-4ef1-97b0-96a2bbcc02ca",
        "colab": {
          "base_uri": "https://localhost:8080/",
          "height": 54
        }
      },
      "source": [
        "r2_score(gt1,tgt1)"
      ],
      "execution_count": 34,
      "outputs": [
        {
          "output_type": "execute_result",
          "data": {
            "text/plain": [
              "0.8627830361369697"
            ]
          },
          "metadata": {
            "tags": []
          },
          "execution_count": 34
        }
      ]
    },
    {
      "cell_type": "code",
      "metadata": {
        "id": "ISmdTN446i0f",
        "colab_type": "code",
        "colab": {}
      },
      "source": [
        ""
      ],
      "execution_count": 0,
      "outputs": []
    },
    {
      "cell_type": "code",
      "metadata": {
        "id": "5kS0GEyg6iyK",
        "colab_type": "code",
        "colab": {}
      },
      "source": [
        ""
      ],
      "execution_count": 0,
      "outputs": []
    },
    {
      "cell_type": "code",
      "metadata": {
        "id": "U8E0gTtp6iuq",
        "colab_type": "code",
        "colab": {}
      },
      "source": [
        ""
      ],
      "execution_count": 0,
      "outputs": []
    }
  ]
}